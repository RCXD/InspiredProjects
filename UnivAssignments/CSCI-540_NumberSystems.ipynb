{
 "metadata": {
  "language_info": {
   "codemirror_mode": {
    "name": "ipython",
    "version": 3
   },
   "file_extension": ".py",
   "mimetype": "text/x-python",
   "name": "python",
   "nbconvert_exporter": "python",
   "pygments_lexer": "ipython3",
   "version": "3.8.5-final"
  },
  "orig_nbformat": 2,
  "kernelspec": {
   "name": "python3",
   "display_name": "Python 3.8.5 64-bit",
   "metadata": {
    "interpreter": {
     "hash": "1baa965d5efe3ac65b79dfc60c0d706280b1da80fedb7760faf2759126c4f253"
    }
   }
  }
 },
 "nbformat": 4,
 "nbformat_minor": 2,
 "cells": [
  {
   "source": [
    "# Problem Set 09: Number Systems\n",
    "## CSCI 540: Computer Architecture Spring 2021\n",
    "### Date: 3/27/2021\n",
    "### Name: Chiho Kim"
   ],
   "cell_type": "markdown",
   "metadata": {}
  },
  {
   "source": [
    "# 1. Perform the indicated base conversions:"
   ],
   "cell_type": "markdown",
   "metadata": {}
  },
  {
   "source": [
    "a. $54_{8}$ to base 5  \n",
    "  $54_{8} = 5*8^1 + 4*8^0$  \n",
    "  $= 40 + 4 = 44_{10}$  \n",
    "  $= 8*5^1 + 4*5^0$  \n",
    "  $= 84_{5}$  \n",
    "b. $312_{4}$ to base 7  \n",
    "  $312_{4} = 3*4^2 + 1*4^1 + 2*4^0$  \n",
    "  $= 48 + 4 + 2$  \n",
    "  $= 54_{10}$  \n",
    "  $= 1*7^2 + 5*7^0$  \n",
    "  $= 15_{7}$  \n",
    "c. $520_{6}$ to base 7  \n",
    "  $520_{6} = 5*6^2 + 2*6^1$  \n",
    "  $= 180 + 12$  \n",
    "  $= 192_{10}$  \n",
    "  $= 3*7^2 + 6*7^1 + 3*7^0$  \n",
    "  $= 363_{7}$  \n",
    "d. $12213_{3}$ to base 9  \n",
    "  $12213_{3} = 1*3^4 + 2*3^3 + 2*3^2 + 1*3^1 + 3*3^0$  \n",
    "  $= 81 + 54 + 18 + 3 + 3$  \n",
    "  $= 159_{10}$  \n",
    "  $= 1*9^2 + 8*9^1 + 6*9^0$  \n",
    "  $= 186_{9}$ "
   ],
   "cell_type": "markdown",
   "metadata": {}
  },
  {
   "source": [
    "# 2. Convert the following binary numbers to their decimal equivalents:\n",
    "a. 001100  \n",
    "$001100 = 2^3+2^2 = 12_{10}$  \n",
    "b. 000011  \n",
    "$000011 = 2^1+2^0 = 3_{10}$  \n",
    "c. 011100  \n",
    "$011100 = 2^4+2^3+2^2 = 16+8+4 = 28_{10}$  \n",
    "d. 11100\n",
    "$11100 = 2^4+2^3+2^2 = 28_{10}$\n",
    "e. 101010  \n",
    "$101010 = 2^5+2^3+2^1 = 32+8+2 = 42_{10}$"
   ],
   "cell_type": "markdown",
   "metadata": {}
  },
  {
   "source": [
    "# 3. Convert the following binary numbers to their decimal equivalents:"
   ],
   "cell_type": "markdown",
   "metadata": {}
  },
  {
   "source": [
    "a. 111100.011  \n",
    "$111100.011 = 2^5+2^4+2^3+2^2+2^-2+2^-3$  \n",
    "$= 32+16+8+4+\\frac{1}{4}+\\frac{1}{8}$  \n",
    "$= 60+0.25+0.125 = 60.375_{10}$  \n",
    "b. 110011.10011  \n",
    "$110011.10011 = 2^5+2^4+2^1+2^0+2^-1+2^-4+2^-5$  \n",
    "$= 32+16+2+1+\\frac{1}{2}+\\frac{1}{16}+\\frac{1}{32}$  \n",
    "$= 51+0.5+0.0625+0.03125 = 51.59375_{2}$  \n",
    "c. 1010101010.1  \n",
    "$1010101010.1= 2^9+2^7+2^5+2^3+2^1+2^-1$  \n",
    "$= 512+128+32+8+2+0.5$  \n",
    "$= 682.5_{10}$  "
   ],
   "cell_type": "markdown",
   "metadata": {}
  },
  {
   "source": [
    "# 4. Convert the following decimal numbers to their binary equivalents:"
   ],
   "cell_type": "markdown",
   "metadata": {}
  },
  {
   "source": [
    "a. 64  \n",
    "$64=1*2^6+0*2^5+...+0*2^0$  \n",
    "$= 1000000_{2}$  \n",
    "b. 100  \n",
    "$100=64+32+4$  \n",
    "$= 1*2^6+1*2^5+1*2^2$  \n",
    "$= 1100100_{2}$  \n",
    "c. 111  \n",
    "$111/2= 55 + 1/2$  \n",
    "$55/2 = 27 + 1/2$  \n",
    "$27/2 = 13 + 1/2$  \n",
    "$13/2 = 6 + 1/2$\n",
    "$6/2 = 3$  \n",
    "$3/2 = 1+1/2$\n",
    "$111 = 55*2 + 1$\n",
    "$= 27*2^2 + 2 + 1$  \n",
    "$= 13*2^3 + 2^2 + 2^1 + 2^0$  \n",
    "$= 6*2^4 + 2^3 + 2^2 + 2^1 + 2^0$  \n",
    "$= 3*2^5 + 2^3 + 2^2 + 2^1 + 2^0$  \n",
    "$= 1*2^6 + 2^5 + 2^3 + 2^2 + 2^1 + 2^0$  \n",
    "$= 1101111_{2}$  \n",
    "d. 145  \n",
    "$145 = 128 + (145-128) = 128 + 17 = 128 + 16 + 1$  \n",
    "$= 2^7+2^4+2^0$  \n",
    "$= 10010001_{2}$  \n",
    "e. 255  \n",
    "$255 = 256 - 1 = 2^8 - 1 = 2^7 + 2^6 + ... + 2^0$  \n",
    "$= 11111111_{2}$"
   ],
   "cell_type": "markdown",
   "metadata": {}
  },
  {
   "source": [
    "# 5. Convert the following decimal numbers to their binary equivalents:"
   ],
   "cell_type": "markdown",
   "metadata": {}
  },
  {
   "source": [
    "a. 34.75  \n",
    "$= 32+2 + 0.5+0.25$  \n",
    "$= 2^5+2^{-1}+2^{-2}$  \n",
    "$= 100000.11_{2}$  \n",
    "b. 25.25  \n",
    "$= 16+8+1+\\frac{1}{4}$  \n",
    "$= 2^4+2^3+2^0+2^{-2}$  \n",
    "$= 11001.01_{2}$  \n",
    "c. 27.1875  \n",
    "$= 16+8+2+1+0.125+0.0625 = 2^4+2^3+2^1+2^0+2^{-3}+2^{-4}$  \n",
    "$= 11011.0011_{2}$"
   ],
   "cell_type": "markdown",
   "metadata": {}
  },
  {
   "source": [
    "# 6. Convert the following hexadecimal numbers to their decimal equivalents:"
   ],
   "cell_type": "markdown",
   "metadata": {}
  },
  {
   "source": [
    "a. C  \n",
    "$= A+2 = 12_{10}$\n",
    "b. 9F  \n",
    "$9*16^1 + F*16^0$  \n",
    "$= 144+15$  \n",
    "$= 159_{10}$  \n",
    "c. D52  \n",
    "$(A+3)*16^2 + 5*16^1 + 2*16^0$  \n",
    "$= 13*16*16 + 5*16 + 2$  \n",
    "$= 3328 + 80 + 2$  \n",
    "$= 3410_{10}$  \n",
    "d. 67E  \n",
    "$6*16^2 + 7*16^1 + (A+4)*16^0$  \n",
    "$= 1662_{10}$\n",
    "e. ABCD  \n",
    "$10*16^3 + 11*16^2 + 12*16^1 + 13*16^0$  \n",
    "$= 43981_{10}$"
   ],
   "cell_type": "markdown",
   "metadata": {}
  },
  {
   "source": [
    "# 7. Convert the following hexadecimal numbers to their decimal equivalents:"
   ],
   "cell_type": "markdown",
   "metadata": {}
  },
  {
   "source": [
    "a. F.4  \n",
    "$= 15*16^0+4*16^{-1}$  \n",
    "$= 15+0.0625$  \n",
    "$= 15.0625_{10}$  \n",
    "b. D3.E  \n",
    "$= 13*16^1 + 3*16^0 + 14*16^{-1}$  \n",
    "$= 211.875_{10}$  \n",
    "c. 1111.1  \n",
    "$= 16^3+16^2+16^1+16^0+16^{-1}$  \n",
    "$= 4369 + 0.0625$  \n",
    "$= 4369.0625_{10}$  \n",
    "d. 888.8  \n",
    "$= 8*16^2+8*16^1+8*16^0+8*16^{-1}$  \n",
    "$= 2134.5_{10}$  \n",
    "e. EBA.C  \n",
    "$= 15*16^2 + 11*16^1 + 10*16^0 + 12*16^{-1}$  \n",
    "$= 3770+0.75 = 3770.75_{10}$  "
   ],
   "cell_type": "markdown",
   "metadata": {}
  },
  {
   "source": [
    "# 8. Convert the following decimal numbers to their hexadecimal equivalents:"
   ],
   "cell_type": "markdown",
   "metadata": {}
  },
  {
   "source": [
    "a. 16  \n",
    "$= 16^1 = 0x10$  \n",
    "b. 80  \n",
    "$= 5*16^1 = 0x50$  \n",
    "c. 2560  \n",
    "$= 256*10 = 10*16^2 = 0xA00$  \n",
    "d. 3000  \n",
    "$= 3000= 16*187 + 16*0.5$  \n",
    "$= 16*(16*11+16*0.6875) + 16*0.5$  \n",
    "$= 11*16^2 + 16^2*0.6875 + 16*0.5$  \n",
    "$= 11*16^2 + 11*16^1 + 8*16^0$  \n",
    "$= 0xBB8$  \n",
    "e. 62500  \n",
    "$62500 = 16*3906.25$  \n",
    "$= 16*(16*244.125 + 0.25)$  \n",
    "$= 16*(16*(16*15.25 + 0.125) + 0.25)$  \n",
    "$= 16*(16*(16*15+16*0.25 + 0.125) + 0.25)$\n",
    "$= 15*16^3+4*16^2 + 2*16^1 + 4*16^0$  \n",
    "$= 0xF424$  "
   ],
   "cell_type": "markdown",
   "metadata": {}
  },
  {
   "source": [
    "# 9. Convert the following decimal numbers to their hexadecimal equivalents:"
   ],
   "cell_type": "markdown",
   "metadata": {}
  },
  {
   "source": [
    "a. 204.125  \n",
    "$204 = 12*16$  \n",
    "$0.125 = 2*16^{-1}$  \n",
    "$204.125 = 0xC.2$  \n",
    "b. 255.875  \n",
    "$255 = 16^2-1 = 15*16^1 + 15*16^0$  \n",
    "$0.875 = 14*16^{-1}$\n",
    "$255.875 = 0xFF.D$  \n",
    "c. 631.25  \n",
    "$631 = 16*39 + 16*0.4375$\n",
    "$= 16(16*2 + 7)+7 = 2*16^2 + 7*16^1 + 7$\n",
    "$= 0.25 = 4*16^{-1}$  \n",
    "$631.25 = 0x277.4$  \n",
    "d. 10000.00390625  \n",
    "$10000 = 16*625 = 16*(16*39+1) = 16*(16*(16*2+7)+1)$  \n",
    "$= 2*16^3 + 7*16^2 + 1*16^1$  \n",
    "$0.00390625 = 0.0625*16^{-1} = 16^{-2}$  \n",
    "$10000.00390625 = 2710.01"
   ],
   "cell_type": "markdown",
   "metadata": {}
  },
  {
   "source": [
    "# 10. Convert the following hexademical numbers to their binary equivalents:"
   ],
   "cell_type": "markdown",
   "metadata": {}
  },
  {
   "source": [
    "a. E  \n",
    "$E = F-1 = 1110_{2}$  \n",
    "b. 1C  \n",
    "$1 = 0001, C = 12_{10} = 8+4 = 1100$  \n",
    "$1C = 0001$ $1100_{2}$  \n",
    "c. A64  \n",
    "$A = 10_{10} = 8+2 = 1010$  \n",
    "$6 = 4+2 = 0110$  \n",
    "$4 = 0100$  \n",
    "$A64 = 1010$ $0110$ $0100_{2}$  \n",
    "d. 1F.C\n",
    "$1F = 0001$ $1111_{2}$  \n",
    "$0.C = 12*16^{-1} = 0.75 = 0.5+ 0.25$  \n",
    "$= \\frac{1}{2} + \\frac{1}{4}$  \n",
    "$= 0.11$  \n",
    "$0001$ $1111$ $1100_{2}$  \n",
    "e. 239.4  \n",
    "$239 = 0010$ $0011$ $1001$  \n",
    "$0.4 = 0.0100  $\n",
    "$239.4 = 0010$ $0011$ $1001$ $0100_{2}$  "
   ],
   "cell_type": "markdown",
   "metadata": {}
  },
  {
   "source": [
    "# 11. Convert the following binary numbers to their hexadecimal equivalents:"
   ],
   "cell_type": "markdown",
   "metadata": {}
  },
  {
   "source": [
    "a. 1001.1111  \n",
    "$1001 = 8+1 = 9, 1111 = F$  \n",
    "$1001.1111 = 0x9.F$  \n",
    "b. 110101.0111001  \n",
    "$=0011$ $0101.0111$ $0011$  \n",
    "$=0x35.73$  \n",
    "c. 10100111.111011  \n",
    "$=1010$ $0111.1110$ $1100$  \n",
    "$=0xA7.EC$  "
   ],
   "cell_type": "markdown",
   "metadata": {}
  }
 ]
}